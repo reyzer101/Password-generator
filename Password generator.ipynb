{
 "cells": [
  {
   "cell_type": "code",
   "execution_count": 4,
   "id": "91f94b20",
   "metadata": {},
   "outputs": [
    {
     "name": "stdout",
     "output_type": "stream",
     "text": [
      "1(Haz4W{\n"
     ]
    }
   ],
   "source": [
    "import random\n",
    "import string\n",
    "\n",
    "all_keys = [string.ascii_lowercase, string.ascii_uppercase, string.digits, string.punctuation]\n",
    "password = \"\"\n",
    "\n",
    "for i in all_keys:\n",
    "    for j in range(2):\n",
    "        password += random.choice(i)\n",
    "\n",
    "password = list(password)\n",
    "random.shuffle(password)\n",
    "\n",
    "last_password = \"\"\n",
    "\n",
    "for key in password:\n",
    "    last_password += key\n",
    "\n",
    "print(last_password)"
   ]
  }
 ],
 "metadata": {
  "kernelspec": {
   "display_name": "Python 3 (ipykernel)",
   "language": "python",
   "name": "python3"
  },
  "language_info": {
   "codemirror_mode": {
    "name": "ipython",
    "version": 3
   },
   "file_extension": ".py",
   "mimetype": "text/x-python",
   "name": "python",
   "nbconvert_exporter": "python",
   "pygments_lexer": "ipython3",
   "version": "3.11.3"
  }
 },
 "nbformat": 4,
 "nbformat_minor": 5
}
